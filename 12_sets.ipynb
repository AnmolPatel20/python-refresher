{
 "cells": [
  {
   "cell_type": "code",
   "execution_count": 1,
   "id": "038a852e-6c74-4398-b7b6-4e6990cfb3e4",
   "metadata": {},
   "outputs": [
    {
     "data": {
      "text/plain": [
       "dict"
      ]
     },
     "execution_count": 1,
     "metadata": {},
     "output_type": "execute_result"
    }
   ],
   "source": [
    "a={}\n",
    "type(a)"
   ]
  },
  {
   "cell_type": "code",
   "execution_count": 3,
   "id": "b5aa07d4-d794-48ab-886f-0b71341bd75d",
   "metadata": {},
   "outputs": [
    {
     "data": {
      "text/plain": [
       "set"
      ]
     },
     "execution_count": 3,
     "metadata": {},
     "output_type": "execute_result"
    }
   ],
   "source": [
    "b= set()\n",
    "type(b)"
   ]
  },
  {
   "cell_type": "code",
   "execution_count": 5,
   "id": "dc583b68-1e10-4941-99cd-e9152a0cedc3",
   "metadata": {},
   "outputs": [
    {
     "name": "stdout",
     "output_type": "stream",
     "text": [
      "{1, 2, 3, 4, 5}\n"
     ]
    }
   ],
   "source": [
    "unique_numbers = set([1, 2, 2, 3, 4, 4, 5])\n",
    "print(unique_numbers)  "
   ]
  },
  {
   "cell_type": "code",
   "execution_count": 7,
   "id": "ee6a624f-3054-4261-b331-e4c6eeec26c4",
   "metadata": {},
   "outputs": [],
   "source": [
    "s={4,3,56,21,78,7,4}"
   ]
  },
  {
   "cell_type": "code",
   "execution_count": 8,
   "id": "d85554d4-8e56-4b9a-8a2c-593359e3fe49",
   "metadata": {},
   "outputs": [
    {
     "data": {
      "text/plain": [
       "{3, 4, 7, 21, 56, 78}"
      ]
     },
     "execution_count": 8,
     "metadata": {},
     "output_type": "execute_result"
    }
   ],
   "source": [
    "s"
   ]
  },
  {
   "cell_type": "code",
   "execution_count": 9,
   "id": "94b481ac-5fb2-46dc-b0be-3413cefe10a3",
   "metadata": {},
   "outputs": [],
   "source": [
    "s.update([4,64,233])"
   ]
  },
  {
   "cell_type": "code",
   "execution_count": 10,
   "id": "e47432a4-7c02-46be-8951-41ca6b241c9d",
   "metadata": {},
   "outputs": [
    {
     "data": {
      "text/plain": [
       "{3, 4, 7, 21, 56, 64, 78, 233}"
      ]
     },
     "execution_count": 10,
     "metadata": {},
     "output_type": "execute_result"
    }
   ],
   "source": [
    "s"
   ]
  },
  {
   "cell_type": "code",
   "execution_count": 11,
   "id": "5c0dfc43-f4c3-464a-8a69-d8fea3f8e3ad",
   "metadata": {},
   "outputs": [],
   "source": [
    "set1={1,2,3,4}\n",
    "set2={3,4,5,6}"
   ]
  },
  {
   "cell_type": "code",
   "execution_count": 12,
   "id": "b5474d02-ad1b-4e87-90ed-cf94faed5351",
   "metadata": {},
   "outputs": [
    {
     "data": {
      "text/plain": [
       "{1, 2, 3, 4, 5, 6}"
      ]
     },
     "execution_count": 12,
     "metadata": {},
     "output_type": "execute_result"
    }
   ],
   "source": [
    "set1.union(set2)"
   ]
  },
  {
   "cell_type": "code",
   "execution_count": 14,
   "id": "99681912-9cbc-4efb-979c-73d329ee1adb",
   "metadata": {},
   "outputs": [
    {
     "data": {
      "text/plain": [
       "{3, 4}"
      ]
     },
     "execution_count": 14,
     "metadata": {},
     "output_type": "execute_result"
    }
   ],
   "source": [
    "set1.intersection(set2)"
   ]
  },
  {
   "cell_type": "markdown",
   "id": "b7829b54-6c90-4349-95a8-b4e0efbafb5e",
   "metadata": {
    "jp-MarkdownHeadingCollapsed": true
   },
   "source": [
    "sub={1,3}"
   ]
  },
  {
   "cell_type": "code",
   "execution_count": 20,
   "id": "e35ef09a-d4fd-440c-8d46-3034e3e148fb",
   "metadata": {},
   "outputs": [],
   "source": [
    "sub={1,3}"
   ]
  },
  {
   "cell_type": "code",
   "execution_count": 21,
   "id": "66863fcf-2207-4fe6-99bf-a970be80a475",
   "metadata": {},
   "outputs": [
    {
     "data": {
      "text/plain": [
       "True"
      ]
     },
     "execution_count": 21,
     "metadata": {},
     "output_type": "execute_result"
    }
   ],
   "source": [
    "sub.issubset(set1)"
   ]
  },
  {
   "cell_type": "code",
   "execution_count": null,
   "id": "b71d431d-7c1b-416c-8c25-85be0a576422",
   "metadata": {},
   "outputs": [],
   "source": []
  }
 ],
 "metadata": {
  "kernelspec": {
   "display_name": "Python 3 (ipykernel)",
   "language": "python",
   "name": "python3"
  },
  "language_info": {
   "codemirror_mode": {
    "name": "ipython",
    "version": 3
   },
   "file_extension": ".py",
   "mimetype": "text/x-python",
   "name": "python",
   "nbconvert_exporter": "python",
   "pygments_lexer": "ipython3",
   "version": "3.12.7"
  }
 },
 "nbformat": 4,
 "nbformat_minor": 5
}
