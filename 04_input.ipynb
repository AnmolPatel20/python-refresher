{
 "cells": [
  {
   "cell_type": "code",
   "execution_count": 1,
   "id": "b8fa5ce3-a49f-4842-ae3b-0a8197fb3473",
   "metadata": {},
   "outputs": [
    {
     "name": "stdin",
     "output_type": "stream",
     "text": [
      "enter the value of a 45\n"
     ]
    }
   ],
   "source": [
    "a = input(\"enter the value of a\")"
   ]
  },
  {
   "cell_type": "code",
   "execution_count": 2,
   "id": "4203e84d-1b9b-4b90-8710-c05627c97abd",
   "metadata": {},
   "outputs": [
    {
     "data": {
      "text/plain": [
       "'45'"
      ]
     },
     "execution_count": 2,
     "metadata": {},
     "output_type": "execute_result"
    }
   ],
   "source": [
    "a"
   ]
  },
  {
   "cell_type": "code",
   "execution_count": 8,
   "id": "eefb0b81-af3f-40bb-8059-79a838141ab6",
   "metadata": {},
   "outputs": [
    {
     "name": "stdin",
     "output_type": "stream",
     "text": [
      "enter the value of b 6\n"
     ]
    }
   ],
   "source": [
    "b = input(\"enter the value of b\")"
   ]
  },
  {
   "cell_type": "code",
   "execution_count": 9,
   "id": "ece6cf0b-551a-4923-89ce-762c87b82280",
   "metadata": {},
   "outputs": [
    {
     "data": {
      "text/plain": [
       "'456'"
      ]
     },
     "execution_count": 9,
     "metadata": {},
     "output_type": "execute_result"
    }
   ],
   "source": [
    "a+b"
   ]
  },
  {
   "cell_type": "code",
   "execution_count": 10,
   "id": "4c56e487-0c75-47c2-ba62-126ef420a57b",
   "metadata": {},
   "outputs": [
    {
     "data": {
      "text/plain": [
       "51"
      ]
     },
     "execution_count": 10,
     "metadata": {},
     "output_type": "execute_result"
    }
   ],
   "source": [
    "int(a)+int(b)"
   ]
  },
  {
   "cell_type": "code",
   "execution_count": 11,
   "id": "5120a75c-2a47-42ce-90c3-9571e9787190",
   "metadata": {},
   "outputs": [
    {
     "name": "stdin",
     "output_type": "stream",
     "text": [
      " 67\n"
     ]
    }
   ],
   "source": [
    "c=input()\n"
   ]
  }
 ],
 "metadata": {
  "kernelspec": {
   "display_name": "Python 3 (ipykernel)",
   "language": "python",
   "name": "python3"
  },
  "language_info": {
   "codemirror_mode": {
    "name": "ipython",
    "version": 3
   },
   "file_extension": ".py",
   "mimetype": "text/x-python",
   "name": "python",
   "nbconvert_exporter": "python",
   "pygments_lexer": "ipython3",
   "version": "3.12.7"
  }
 },
 "nbformat": 4,
 "nbformat_minor": 5
}
