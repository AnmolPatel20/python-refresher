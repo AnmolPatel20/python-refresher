{
 "cells": [
  {
   "cell_type": "code",
   "execution_count": 1,
   "id": "24d5cad5-23f8-4bad-afe6-ab960a194560",
   "metadata": {},
   "outputs": [],
   "source": [
    "l=[2,6,78,66]"
   ]
  },
  {
   "cell_type": "code",
   "execution_count": 2,
   "id": "9357aaba-1361-441b-9cb2-c8c44517d5a3",
   "metadata": {},
   "outputs": [
    {
     "name": "stdout",
     "output_type": "stream",
     "text": [
      "2\n",
      "6\n",
      "78\n",
      "66\n"
     ]
    }
   ],
   "source": [
    "for item in l:\n",
    "    print(item)"
   ]
  },
  {
   "cell_type": "code",
   "execution_count": 3,
   "id": "9c6205ae-3b66-4b6b-8f5a-9e01fb86c7d0",
   "metadata": {},
   "outputs": [
    {
     "name": "stdout",
     "output_type": "stream",
     "text": [
      "0\n",
      "1\n",
      "2\n",
      "3\n",
      "4\n",
      "5\n",
      "6\n",
      "7\n",
      "8\n",
      "9\n"
     ]
    }
   ],
   "source": [
    "for i in range(10):\n",
    "    print(i)"
   ]
  },
  {
   "cell_type": "code",
   "execution_count": 5,
   "id": "8a8eaf23-1ba0-4747-8db0-4f5887fbb90c",
   "metadata": {},
   "outputs": [
    {
     "name": "stdout",
     "output_type": "stream",
     "text": [
      "0\n",
      "1\n",
      "2\n",
      "3\n",
      "4\n",
      "5\n",
      "6\n",
      "7\n",
      "8\n",
      "9\n",
      "10\n",
      "11\n"
     ]
    }
   ],
   "source": [
    "m=0\n",
    "while m<12:\n",
    "    print(m)\n",
    "    m=m+1"
   ]
  },
  {
   "cell_type": "code",
   "execution_count": 6,
   "id": "16013688-ef0a-4800-a583-04763682a4d0",
   "metadata": {},
   "outputs": [
    {
     "name": "stdout",
     "output_type": "stream",
     "text": [
      "Hello\n"
     ]
    }
   ],
   "source": [
    "for item in l:\n",
    "    pass\n",
    "    \n",
    "print(\"Hello\")"
   ]
  },
  {
   "cell_type": "code",
   "execution_count": 14,
   "id": "7b4d24d6-6ef1-459f-b441-794286d607d7",
   "metadata": {},
   "outputs": [
    {
     "name": "stdout",
     "output_type": "stream",
     "text": [
      "apple\n"
     ]
    }
   ],
   "source": [
    "l= [\"apple\", \"banana\", \"cherry\"]\n",
    "for items in l:\n",
    "    if(items == \"banana\"):\n",
    "        break\n",
    "    print(items)"
   ]
  },
  {
   "cell_type": "code",
   "execution_count": null,
   "id": "b7d3a003-c45a-4c47-a20b-32e297fa6307",
   "metadata": {},
   "outputs": [],
   "source": []
  }
 ],
 "metadata": {
  "kernelspec": {
   "display_name": "Python 3 (ipykernel)",
   "language": "python",
   "name": "python3"
  },
  "language_info": {
   "codemirror_mode": {
    "name": "ipython",
    "version": 3
   },
   "file_extension": ".py",
   "mimetype": "text/x-python",
   "name": "python",
   "nbconvert_exporter": "python",
   "pygments_lexer": "ipython3",
   "version": "3.12.7"
  }
 },
 "nbformat": 4,
 "nbformat_minor": 5
}
