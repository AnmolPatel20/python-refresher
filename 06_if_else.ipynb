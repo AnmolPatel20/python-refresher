{
 "cells": [
  {
   "cell_type": "code",
   "execution_count": 3,
   "id": "bda8d5e0-b600-49c3-9f86-b0ba6722be1f",
   "metadata": {},
   "outputs": [],
   "source": [
    "a=400"
   ]
  },
  {
   "cell_type": "code",
   "execution_count": 4,
   "id": "cbde51fd-82b1-4444-bc22-c4303ab283f1",
   "metadata": {},
   "outputs": [
    {
     "name": "stdout",
     "output_type": "stream",
     "text": [
      "greater\n"
     ]
    }
   ],
   "source": [
    "if(a>53):\n",
    "    print(\"greater\")\n",
    "else:\n",
    "    print(\"smaller\")"
   ]
  },
  {
   "cell_type": "code",
   "execution_count": 5,
   "id": "2ba1b476-633c-4b31-864c-404375130500",
   "metadata": {},
   "outputs": [
    {
     "name": "stdout",
     "output_type": "stream",
     "text": [
      "greater than 40\n"
     ]
    }
   ],
   "source": [
    "a=41\n",
    "if a>50:\n",
    "    print(\"greater then 50\")\n",
    "elif(a>40):\n",
    "    print(\"greater than 40\")\n",
    "elif(a>30):\n",
    "    print(\"greater than 30\")\n",
    "else:\n",
    "    print(\"Done!\")\n",
    "    "
   ]
  },
  {
   "cell_type": "code",
   "execution_count": 6,
   "id": "9d2ee055-b5e9-4736-aa3b-1f68504ff7f6",
   "metadata": {},
   "outputs": [],
   "source": [
    "def avg(a,b):\n",
    "    return(a+b)/2"
   ]
  },
  {
   "cell_type": "code",
   "execution_count": 7,
   "id": "977eeb44-75dd-4d34-885e-640f94bdb887",
   "metadata": {},
   "outputs": [
    {
     "data": {
      "text/plain": [
       "2.5"
      ]
     },
     "execution_count": 7,
     "metadata": {},
     "output_type": "execute_result"
    }
   ],
   "source": [
    "avg(2,3)"
   ]
  },
  {
   "cell_type": "code",
   "execution_count": 9,
   "id": "c8ee1ca0-53fc-42f2-ae51-f7b22ef88bb4",
   "metadata": {},
   "outputs": [],
   "source": [
    "def greet():\n",
    "    print(\"hello\")\n",
    "    "
   ]
  },
  {
   "cell_type": "code",
   "execution_count": 10,
   "id": "a5c5d367-dc5c-4497-ac9c-696b93b5468e",
   "metadata": {},
   "outputs": [
    {
     "name": "stdout",
     "output_type": "stream",
     "text": [
      "hello\n"
     ]
    }
   ],
   "source": [
    "greet()"
   ]
  },
  {
   "cell_type": "code",
   "execution_count": null,
   "id": "bbe2896d-85ce-4c8e-9e62-33e6fd2e2314",
   "metadata": {},
   "outputs": [],
   "source": []
  }
 ],
 "metadata": {
  "kernelspec": {
   "display_name": "Python 3 (ipykernel)",
   "language": "python",
   "name": "python3"
  },
  "language_info": {
   "codemirror_mode": {
    "name": "ipython",
    "version": 3
   },
   "file_extension": ".py",
   "mimetype": "text/x-python",
   "name": "python",
   "nbconvert_exporter": "python",
   "pygments_lexer": "ipython3",
   "version": "3.12.7"
  }
 },
 "nbformat": 4,
 "nbformat_minor": 5
}
