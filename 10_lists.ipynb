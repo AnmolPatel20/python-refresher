{
 "cells": [
  {
   "cell_type": "code",
   "execution_count": 1,
   "id": "330a3a2d-6588-46c0-8767-298520272211",
   "metadata": {},
   "outputs": [],
   "source": [
    "l=[3,5,23,9]"
   ]
  },
  {
   "cell_type": "code",
   "execution_count": 2,
   "id": "0ade4cb7-aa5e-459a-8ccb-5c7fbec30894",
   "metadata": {},
   "outputs": [],
   "source": [
    "l[0]=66"
   ]
  },
  {
   "cell_type": "code",
   "execution_count": 3,
   "id": "73df1b7d-b6d1-4edb-87f2-7662fdf460d6",
   "metadata": {},
   "outputs": [
    {
     "data": {
      "text/plain": [
       "[66, 5, 23, 9]"
      ]
     },
     "execution_count": 3,
     "metadata": {},
     "output_type": "execute_result"
    }
   ],
   "source": [
    "l"
   ]
  },
  {
   "cell_type": "code",
   "execution_count": 4,
   "id": "7147f251-d01a-4074-b7fb-7efb68e7fa0f",
   "metadata": {},
   "outputs": [],
   "source": [
    "l.append(99)"
   ]
  },
  {
   "cell_type": "code",
   "execution_count": 5,
   "id": "ca893993-54f9-420a-a57e-04f72908a267",
   "metadata": {},
   "outputs": [
    {
     "data": {
      "text/plain": [
       "[66, 5, 23, 9, 99]"
      ]
     },
     "execution_count": 5,
     "metadata": {},
     "output_type": "execute_result"
    }
   ],
   "source": [
    "l"
   ]
  },
  {
   "cell_type": "code",
   "execution_count": 6,
   "id": "af645b64-1c2c-409b-a332-a4cf816ba6e0",
   "metadata": {},
   "outputs": [],
   "source": [
    "l2=[5,7]"
   ]
  },
  {
   "cell_type": "code",
   "execution_count": 7,
   "id": "3abb175e-095c-4b6f-ba65-0ec3a64fb9e0",
   "metadata": {},
   "outputs": [],
   "source": [
    "l.extend(l2) "
   ]
  },
  {
   "cell_type": "code",
   "execution_count": 8,
   "id": "7b890051-9194-4307-a351-4e5c4f5b15c6",
   "metadata": {},
   "outputs": [
    {
     "data": {
      "text/plain": [
       "[66, 5, 23, 9, 99, 5, 7]"
      ]
     },
     "execution_count": 8,
     "metadata": {},
     "output_type": "execute_result"
    }
   ],
   "source": [
    "l"
   ]
  },
  {
   "cell_type": "code",
   "execution_count": 9,
   "id": "587db48a-1b12-4007-88b8-a6eb4b904f38",
   "metadata": {},
   "outputs": [],
   "source": [
    "l.insert(1,200) #insert 200 at index 1"
   ]
  },
  {
   "cell_type": "code",
   "execution_count": 10,
   "id": "eb731f4e-e881-483e-bb4a-260309802acb",
   "metadata": {},
   "outputs": [
    {
     "data": {
      "text/plain": [
       "[66, 200, 5, 23, 9, 99, 5, 7]"
      ]
     },
     "execution_count": 10,
     "metadata": {},
     "output_type": "execute_result"
    }
   ],
   "source": [
    "l"
   ]
  },
  {
   "cell_type": "code",
   "execution_count": 13,
   "id": "51acdb96-ffc6-46c5-bf89-0964690d7de0",
   "metadata": {},
   "outputs": [
    {
     "data": {
      "text/plain": [
       "99"
      ]
     },
     "execution_count": 13,
     "metadata": {},
     "output_type": "execute_result"
    }
   ],
   "source": [
    "l.pop(4)"
   ]
  },
  {
   "cell_type": "code",
   "execution_count": 14,
   "id": "321f20aa-0b13-4ab5-9033-d2ed93ff360e",
   "metadata": {},
   "outputs": [
    {
     "data": {
      "text/plain": [
       "[66, 200, 5, 23, 5, 7]"
      ]
     },
     "execution_count": 14,
     "metadata": {},
     "output_type": "execute_result"
    }
   ],
   "source": [
    "l"
   ]
  },
  {
   "cell_type": "code",
   "execution_count": 16,
   "id": "02a08b7f-e7d5-48b6-81fb-3f4dacaf50d0",
   "metadata": {},
   "outputs": [
    {
     "data": {
      "text/plain": [
       "0"
      ]
     },
     "execution_count": 16,
     "metadata": {},
     "output_type": "execute_result"
    }
   ],
   "source": [
    "l.index(66)"
   ]
  },
  {
   "cell_type": "code",
   "execution_count": 17,
   "id": "8a4ddc3c-a4a9-4751-8076-018a347cea08",
   "metadata": {},
   "outputs": [
    {
     "data": {
      "text/plain": [
       "3"
      ]
     },
     "execution_count": 17,
     "metadata": {},
     "output_type": "execute_result"
    }
   ],
   "source": [
    "l.index(23)"
   ]
  },
  {
   "cell_type": "code",
   "execution_count": 18,
   "id": "ada47c2e-ea05-4ddc-90d7-7a81b92877d2",
   "metadata": {},
   "outputs": [
    {
     "data": {
      "text/plain": [
       "2"
      ]
     },
     "execution_count": 18,
     "metadata": {},
     "output_type": "execute_result"
    }
   ],
   "source": [
    "l.count(5)"
   ]
  },
  {
   "cell_type": "code",
   "execution_count": 26,
   "id": "cc70b9a0-b8b9-4366-a4c8-f137e574c667",
   "metadata": {},
   "outputs": [],
   "source": [
    "l.sort()  # changes and sorts the original list in ascending orger "
   ]
  },
  {
   "cell_type": "code",
   "execution_count": 20,
   "id": "d714a59b-0473-49b0-b81f-40a97c3c16dd",
   "metadata": {},
   "outputs": [
    {
     "data": {
      "text/plain": [
       "[5, 5, 7, 23, 66, 200]"
      ]
     },
     "execution_count": 20,
     "metadata": {},
     "output_type": "execute_result"
    }
   ],
   "source": [
    "l"
   ]
  },
  {
   "cell_type": "code",
   "execution_count": 21,
   "id": "5ad42d0e-060d-41ac-9bbd-afabb721455e",
   "metadata": {},
   "outputs": [
    {
     "data": {
      "text/plain": [
       "[5, 5, 7, 23, 66, 200]"
      ]
     },
     "execution_count": 21,
     "metadata": {},
     "output_type": "execute_result"
    }
   ],
   "source": [
    "sorted(l)"
   ]
  },
  {
   "cell_type": "code",
   "execution_count": 22,
   "id": "da367a81-ee73-4945-91b9-7bcea1479935",
   "metadata": {},
   "outputs": [],
   "source": [
    "newl=[5,66,77,11,65,78,2]"
   ]
  },
  {
   "cell_type": "code",
   "execution_count": 23,
   "id": "363eaac8-88d1-45e0-ad43-b9e9e0560525",
   "metadata": {},
   "outputs": [
    {
     "data": {
      "text/plain": [
       "[2, 5, 11, 65, 66, 77, 78]"
      ]
     },
     "execution_count": 23,
     "metadata": {},
     "output_type": "execute_result"
    }
   ],
   "source": [
    "sorted(newl)  # returns new list which is sorted version of original list"
   ]
  },
  {
   "cell_type": "code",
   "execution_count": 25,
   "id": "2bb4c086-acf0-48c4-b730-b3f2cd5064cb",
   "metadata": {},
   "outputs": [
    {
     "data": {
      "text/plain": [
       "[5, 66, 77, 11, 65, 78, 2]"
      ]
     },
     "execution_count": 25,
     "metadata": {},
     "output_type": "execute_result"
    }
   ],
   "source": [
    "newl"
   ]
  },
  {
   "cell_type": "code",
   "execution_count": 27,
   "id": "80ce3fe0-3c98-40f9-9ebc-92e53120ef2b",
   "metadata": {},
   "outputs": [],
   "source": [
    "y=[1,2,True,False,[4,5]]"
   ]
  },
  {
   "cell_type": "code",
   "execution_count": 28,
   "id": "fe09195c-e76d-4672-8cbe-6be0b217658a",
   "metadata": {},
   "outputs": [
    {
     "data": {
      "text/plain": [
       "[1, 2, True, False, [4, 5]]"
      ]
     },
     "execution_count": 28,
     "metadata": {},
     "output_type": "execute_result"
    }
   ],
   "source": [
    "y"
   ]
  },
  {
   "cell_type": "code",
   "execution_count": 29,
   "id": "0f23f3ae-f199-4b25-99b0-6586cb2c61a4",
   "metadata": {},
   "outputs": [
    {
     "data": {
      "text/plain": [
       "[4, 5]"
      ]
     },
     "execution_count": 29,
     "metadata": {},
     "output_type": "execute_result"
    }
   ],
   "source": [
    "y[4]"
   ]
  },
  {
   "cell_type": "code",
   "execution_count": 30,
   "id": "72ded3e7-a8df-4465-9897-753cf65c0ca0",
   "metadata": {},
   "outputs": [
    {
     "data": {
      "text/plain": [
       "4"
      ]
     },
     "execution_count": 30,
     "metadata": {},
     "output_type": "execute_result"
    }
   ],
   "source": [
    "y[4][0]"
   ]
  },
  {
   "cell_type": "code",
   "execution_count": 31,
   "id": "1dad2a4c-a2c8-496c-9122-c8c05dea3757",
   "metadata": {},
   "outputs": [
    {
     "data": {
      "text/plain": [
       "5"
      ]
     },
     "execution_count": 31,
     "metadata": {},
     "output_type": "execute_result"
    }
   ],
   "source": [
    "y[4][1]"
   ]
  },
  {
   "cell_type": "code",
   "execution_count": 34,
   "id": "3a1df30d-d714-4583-a671-6bb227695d90",
   "metadata": {},
   "outputs": [],
   "source": [
    "s=\"anmol-patel-joy-kid-hello-house\""
   ]
  },
  {
   "cell_type": "code",
   "execution_count": 35,
   "id": "68a1c66a-044a-4230-8992-c33f9646bcc2",
   "metadata": {},
   "outputs": [
    {
     "data": {
      "text/plain": [
       "['anmol', 'patel', 'joy', 'kid', 'hello', 'house']"
      ]
     },
     "execution_count": 35,
     "metadata": {},
     "output_type": "execute_result"
    }
   ],
   "source": [
    "s.split(\"-\")"
   ]
  },
  {
   "cell_type": "code",
   "execution_count": null,
   "id": "300292c8-72fc-41fd-8ec3-15e6cee320f7",
   "metadata": {},
   "outputs": [],
   "source": []
  }
 ],
 "metadata": {
  "kernelspec": {
   "display_name": "Python 3 (ipykernel)",
   "language": "python",
   "name": "python3"
  },
  "language_info": {
   "codemirror_mode": {
    "name": "ipython",
    "version": 3
   },
   "file_extension": ".py",
   "mimetype": "text/x-python",
   "name": "python",
   "nbconvert_exporter": "python",
   "pygments_lexer": "ipython3",
   "version": "3.12.7"
  }
 },
 "nbformat": 4,
 "nbformat_minor": 5
}
