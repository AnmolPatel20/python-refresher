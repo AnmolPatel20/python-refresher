{
 "cells": [
  {
   "cell_type": "code",
   "execution_count": 1,
   "id": "55f2e380-0e9e-4d50-a603-ababf61c4f60",
   "metadata": {},
   "outputs": [],
   "source": [
    "import json"
   ]
  },
  {
   "cell_type": "code",
   "execution_count": 2,
   "id": "c906a0ea-49aa-453a-a4ba-d7fc19a5397d",
   "metadata": {},
   "outputs": [],
   "source": [
    "data = {\"name\": \"Alice\", \"age\": 25, \"city\": \"New York\"}"
   ]
  },
  {
   "cell_type": "code",
   "execution_count": 4,
   "id": "287a1efc-ea29-4cdc-8f71-ce42376f3045",
   "metadata": {},
   "outputs": [],
   "source": [
    "s=json.dumps(data)"
   ]
  },
  {
   "cell_type": "code",
   "execution_count": 5,
   "id": "af5c210d-0ab0-4f0d-a5e9-a70a6bbb5836",
   "metadata": {},
   "outputs": [
    {
     "data": {
      "text/plain": [
       "str"
      ]
     },
     "execution_count": 5,
     "metadata": {},
     "output_type": "execute_result"
    }
   ],
   "source": [
    "type(s)"
   ]
  },
  {
   "cell_type": "code",
   "execution_count": 6,
   "id": "77df35fe-d59b-4797-b6dc-6fbc9fb794ae",
   "metadata": {},
   "outputs": [
    {
     "name": "stdout",
     "output_type": "stream",
     "text": [
      "{\"name\": \"Alice\", \"age\": 25, \"city\": \"New York\"}\n"
     ]
    }
   ],
   "source": [
    "print(s)"
   ]
  },
  {
   "cell_type": "code",
   "execution_count": 7,
   "id": "9ce54829-8a81-4465-8457-13443048354f",
   "metadata": {},
   "outputs": [],
   "source": [
    "file=open(\"data.json\",\"w\")"
   ]
  },
  {
   "cell_type": "code",
   "execution_count": 8,
   "id": "7de51367-f480-43b4-a773-e49345d07f4e",
   "metadata": {},
   "outputs": [],
   "source": [
    "json.dump(data,file)"
   ]
  },
  {
   "cell_type": "code",
   "execution_count": 9,
   "id": "218486e9-acf5-42db-a0ab-962927f2b76a",
   "metadata": {},
   "outputs": [],
   "source": [
    "file.close()"
   ]
  },
  {
   "cell_type": "code",
   "execution_count": null,
   "id": "0ee56004-4a45-47b6-955a-5a0eadc65412",
   "metadata": {},
   "outputs": [],
   "source": []
  }
 ],
 "metadata": {
  "kernelspec": {
   "display_name": "Python 3 (ipykernel)",
   "language": "python",
   "name": "python3"
  },
  "language_info": {
   "codemirror_mode": {
    "name": "ipython",
    "version": 3
   },
   "file_extension": ".py",
   "mimetype": "text/x-python",
   "name": "python",
   "nbconvert_exporter": "python",
   "pygments_lexer": "ipython3",
   "version": "3.12.7"
  }
 },
 "nbformat": 4,
 "nbformat_minor": 5
}
