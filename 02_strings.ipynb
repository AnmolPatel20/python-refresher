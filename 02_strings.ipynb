{
 "cells": [
  {
   "cell_type": "code",
   "execution_count": 1,
   "id": "2d619581-dfcb-444d-8481-1eefa754570d",
   "metadata": {},
   "outputs": [],
   "source": [
    "name=\"Anmol\""
   ]
  },
  {
   "cell_type": "code",
   "execution_count": 3,
   "id": "0fc97d62-8834-4531-88ab-978e9522d3ec",
   "metadata": {},
   "outputs": [
    {
     "data": {
      "text/plain": [
       "'Anmol'"
      ]
     },
     "execution_count": 3,
     "metadata": {},
     "output_type": "execute_result"
    }
   ],
   "source": [
    "name\n"
   ]
  },
  {
   "cell_type": "code",
   "execution_count": 4,
   "id": "bc926c2a-f71a-4954-8b35-e4d9ac6700c6",
   "metadata": {},
   "outputs": [
    {
     "data": {
      "text/plain": [
       "'ANMOL'"
      ]
     },
     "execution_count": 4,
     "metadata": {},
     "output_type": "execute_result"
    }
   ],
   "source": [
    "name.upper()"
   ]
  },
  {
   "cell_type": "code",
   "execution_count": 5,
   "id": "3f95127b-1a07-4a29-a308-cd4b5f114695",
   "metadata": {},
   "outputs": [
    {
     "data": {
      "text/plain": [
       "True"
      ]
     },
     "execution_count": 5,
     "metadata": {},
     "output_type": "execute_result"
    }
   ],
   "source": [
    "name.endswith(\"ol\")"
   ]
  },
  {
   "cell_type": "code",
   "execution_count": 6,
   "id": "d0d2101e-e85c-47d1-a2df-737a9b6dc416",
   "metadata": {},
   "outputs": [
    {
     "data": {
      "text/plain": [
       "False"
      ]
     },
     "execution_count": 6,
     "metadata": {},
     "output_type": "execute_result"
    }
   ],
   "source": [
    "name.endswith(\"lo\")"
   ]
  },
  {
   "cell_type": "code",
   "execution_count": 8,
   "id": "4a1db4ad-2043-48ec-beac-834c3b182e6b",
   "metadata": {},
   "outputs": [
    {
     "data": {
      "text/plain": [
       "0"
      ]
     },
     "execution_count": 8,
     "metadata": {},
     "output_type": "execute_result"
    }
   ],
   "source": [
    "name.count(\"a\")"
   ]
  },
  {
   "cell_type": "code",
   "execution_count": 9,
   "id": "382c3bd9-3113-487d-a3cc-b78c15a4e149",
   "metadata": {},
   "outputs": [
    {
     "data": {
      "text/plain": [
       "1"
      ]
     },
     "execution_count": 9,
     "metadata": {},
     "output_type": "execute_result"
    }
   ],
   "source": [
    "name.count(\"o\")"
   ]
  },
  {
   "cell_type": "code",
   "execution_count": 10,
   "id": "0444b084-332d-4e43-9b29-5c0f76d61981",
   "metadata": {},
   "outputs": [
    {
     "name": "stdout",
     "output_type": "stream",
     "text": [
      "10\n"
     ]
    }
   ],
   "source": [
    "s=\"AnmolPatel\"\n",
    "print(len(s))"
   ]
  },
  {
   "cell_type": "code",
   "execution_count": 11,
   "id": "fb697d91-fb71-45df-a2b9-8ca8b9fd647c",
   "metadata": {},
   "outputs": [
    {
     "data": {
      "text/plain": [
       "'Anmol'"
      ]
     },
     "execution_count": 11,
     "metadata": {},
     "output_type": "execute_result"
    }
   ],
   "source": [
    "s[0:5]"
   ]
  },
  {
   "cell_type": "code",
   "execution_count": 12,
   "id": "af659902-e1b4-46ca-a0b4-cfc027cbef14",
   "metadata": {},
   "outputs": [
    {
     "data": {
      "text/plain": [
       "'nmolPate'"
      ]
     },
     "execution_count": 12,
     "metadata": {},
     "output_type": "execute_result"
    }
   ],
   "source": [
    "s[1:-1]"
   ]
  },
  {
   "cell_type": "code",
   "execution_count": 14,
   "id": "441fda77-ad82-4519-880f-538d93e5f43e",
   "metadata": {},
   "outputs": [
    {
     "data": {
      "text/plain": [
       "'nmolPate'"
      ]
     },
     "execution_count": 14,
     "metadata": {},
     "output_type": "execute_result"
    }
   ],
   "source": [
    "s[1:9]"
   ]
  },
  {
   "cell_type": "code",
   "execution_count": 16,
   "id": "0307f4a0-a4bc-4251-986c-e1ad58c5cdf7",
   "metadata": {},
   "outputs": [
    {
     "data": {
      "text/plain": [
       "'nmolPate'"
      ]
     },
     "execution_count": 16,
     "metadata": {},
     "output_type": "execute_result"
    }
   ],
   "source": [
    "s[-9:-1]"
   ]
  }
 ],
 "metadata": {
  "kernelspec": {
   "display_name": "Python 3 (ipykernel)",
   "language": "python",
   "name": "python3"
  },
  "language_info": {
   "codemirror_mode": {
    "name": "ipython",
    "version": 3
   },
   "file_extension": ".py",
   "mimetype": "text/x-python",
   "name": "python",
   "nbconvert_exporter": "python",
   "pygments_lexer": "ipython3",
   "version": "3.12.7"
  }
 },
 "nbformat": 4,
 "nbformat_minor": 5
}
