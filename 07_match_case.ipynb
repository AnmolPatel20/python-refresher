{
 "cells": [
  {
   "cell_type": "code",
   "execution_count": 4,
   "id": "dea5c1a1-9478-4883-8bd2-f6641a362cb5",
   "metadata": {},
   "outputs": [],
   "source": [
    "code=500"
   ]
  },
  {
   "cell_type": "code",
   "execution_count": 6,
   "id": "71e76579-5c95-487e-886f-4fc154ce2fae",
   "metadata": {},
   "outputs": [
    {
     "name": "stdout",
     "output_type": "stream",
     "text": [
      "Nothing Matched\n",
      "end of prrogram\n"
     ]
    }
   ],
   "source": [
    "match code:\n",
    "    case 200:\n",
    "        print(\"Response OK\")\n",
    "    case 400:\n",
    "        print(\"Bad Request\")\n",
    "    case 404:\n",
    "        print(\"Not Found\")\n",
    "    case _:\n",
    "        print(\"Nothing Matched\")\n",
    "print(\"end of prrogram\")"
   ]
  },
  {
   "cell_type": "code",
   "execution_count": null,
   "id": "0a0bde0d-70d8-41f9-82c8-75b79fdf8eea",
   "metadata": {},
   "outputs": [],
   "source": []
  }
 ],
 "metadata": {
  "kernelspec": {
   "display_name": "Python 3 (ipykernel)",
   "language": "python",
   "name": "python3"
  },
  "language_info": {
   "codemirror_mode": {
    "name": "ipython",
    "version": 3
   },
   "file_extension": ".py",
   "mimetype": "text/x-python",
   "name": "python",
   "nbconvert_exporter": "python",
   "pygments_lexer": "ipython3",
   "version": "3.12.7"
  }
 },
 "nbformat": 4,
 "nbformat_minor": 5
}
