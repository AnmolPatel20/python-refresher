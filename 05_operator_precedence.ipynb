{
 "cells": [
  {
   "cell_type": "code",
   "execution_count": 3,
   "id": "608b35d3-2f48-4ea9-81e2-4b8dde6fc9ff",
   "metadata": {},
   "outputs": [],
   "source": [
    "result=10+2*3"
   ]
  },
  {
   "cell_type": "code",
   "execution_count": 5,
   "id": "68a8f2d7-19c2-466f-a014-85352094868f",
   "metadata": {},
   "outputs": [
    {
     "data": {
      "text/plain": [
       "16"
      ]
     },
     "execution_count": 5,
     "metadata": {},
     "output_type": "execute_result"
    }
   ],
   "source": [
    "result"
   ]
  },
  {
   "cell_type": "code",
   "execution_count": 6,
   "id": "bff28880-10e9-4c58-9ea3-5affc60af669",
   "metadata": {},
   "outputs": [
    {
     "data": {
      "text/plain": [
       "-20.956521739130434"
      ]
     },
     "execution_count": 6,
     "metadata": {},
     "output_type": "execute_result"
    }
   ],
   "source": [
    "54*3/23+4-2**5"
   ]
  },
  {
   "cell_type": "code",
   "execution_count": null,
   "id": "d3f34c59-4f7b-417a-ba28-0aa72fce339f",
   "metadata": {},
   "outputs": [],
   "source": []
  }
 ],
 "metadata": {
  "kernelspec": {
   "display_name": "Python 3 (ipykernel)",
   "language": "python",
   "name": "python3"
  },
  "language_info": {
   "codemirror_mode": {
    "name": "ipython",
    "version": 3
   },
   "file_extension": ".py",
   "mimetype": "text/x-python",
   "name": "python",
   "nbconvert_exporter": "python",
   "pygments_lexer": "ipython3",
   "version": "3.12.7"
  }
 },
 "nbformat": 4,
 "nbformat_minor": 5
}
