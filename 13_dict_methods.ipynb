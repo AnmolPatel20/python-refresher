{
 "cells": [
  {
   "cell_type": "code",
   "execution_count": 1,
   "id": "d3e5c901-a224-44e9-9e1f-d8bce9ed671f",
   "metadata": {
    "editable": true,
    "slideshow": {
     "slide_type": ""
    },
    "tags": []
   },
   "outputs": [],
   "source": [
    "student = {\n",
    "    \"name\": \"Alice\",\n",
    "    \"age\": 25,\n",
    "    \"grade\": \"A\"\n",
    "}"
   ]
  },
  {
   "cell_type": "code",
   "execution_count": 3,
   "id": "5c216208-1c81-4b78-aeb5-db0f36bbae23",
   "metadata": {},
   "outputs": [],
   "source": [
    "student = {\n",
    "    \"name\": \"Alice\",\n",
    "    \"age\": 25,\n",
    "    \"grade\": \"A\"\n",
    "}"
   ]
  },
  {
   "cell_type": "code",
   "execution_count": 4,
   "id": "6e5ff360-6558-469b-803d-435d8bd40262",
   "metadata": {},
   "outputs": [
    {
     "name": "stdout",
     "output_type": "stream",
     "text": [
      "25\n"
     ]
    }
   ],
   "source": [
    "print(student[\"age\"])"
   ]
  },
  {
   "cell_type": "code",
   "execution_count": 5,
   "id": "1e588691-2dfe-4b2c-ac2e-b362d64e95a3",
   "metadata": {},
   "outputs": [],
   "source": [
    "student[\"age\"]=22"
   ]
  },
  {
   "cell_type": "code",
   "execution_count": 6,
   "id": "1a92597c-16d4-4fd3-a7fa-85fe0502af45",
   "metadata": {},
   "outputs": [
    {
     "name": "stdout",
     "output_type": "stream",
     "text": [
      "{'name': 'Alice', 'age': 22, 'grade': 'A'}\n"
     ]
    }
   ],
   "source": [
    "print(student)"
   ]
  },
  {
   "cell_type": "code",
   "execution_count": 8,
   "id": "6a333dcb-d8bd-4b23-9614-4ed6d93ade5f",
   "metadata": {},
   "outputs": [
    {
     "data": {
      "text/plain": [
       "dict_keys(['name', 'age', 'grade'])"
      ]
     },
     "execution_count": 8,
     "metadata": {},
     "output_type": "execute_result"
    }
   ],
   "source": [
    "student.keys()"
   ]
  },
  {
   "cell_type": "code",
   "execution_count": 9,
   "id": "f0cb84e5-1027-44b2-a15a-8a527947b40e",
   "metadata": {},
   "outputs": [
    {
     "data": {
      "text/plain": [
       "dict_values(['Alice', 22, 'A'])"
      ]
     },
     "execution_count": 9,
     "metadata": {},
     "output_type": "execute_result"
    }
   ],
   "source": [
    "student.values()"
   ]
  },
  {
   "cell_type": "code",
   "execution_count": 10,
   "id": "da0f4061-aad8-476e-8850-6364c1e776ab",
   "metadata": {},
   "outputs": [
    {
     "data": {
      "text/plain": [
       "dict_items([('name', 'Alice'), ('age', 22), ('grade', 'A')])"
      ]
     },
     "execution_count": 10,
     "metadata": {},
     "output_type": "execute_result"
    }
   ],
   "source": [
    "student.items()"
   ]
  },
  {
   "cell_type": "code",
   "execution_count": 11,
   "id": "4e871d8f-ac8f-47cd-8ef9-e37eca21fb3e",
   "metadata": {},
   "outputs": [],
   "source": [
    "student.update({\"name\":\"ANMOL\"})"
   ]
  },
  {
   "cell_type": "code",
   "execution_count": 12,
   "id": "f2dab8fc-0ad7-48d9-9139-88f5653cc659",
   "metadata": {},
   "outputs": [
    {
     "name": "stdout",
     "output_type": "stream",
     "text": [
      "{'name': 'ANMOL', 'age': 22, 'grade': 'A'}\n"
     ]
    }
   ],
   "source": [
    "print(student)"
   ]
  },
  {
   "cell_type": "code",
   "execution_count": 13,
   "id": "124abe32-da63-4936-93ff-57a323fc3b7b",
   "metadata": {},
   "outputs": [],
   "source": [
    "student.update({\"name\":\"AnmolPatel\" , \"language\":\"python\"})"
   ]
  },
  {
   "cell_type": "code",
   "execution_count": 14,
   "id": "4b4006a5-602d-44a4-be00-0f8c7e9a515b",
   "metadata": {},
   "outputs": [
    {
     "name": "stdout",
     "output_type": "stream",
     "text": [
      "{'name': 'AnmolPatel', 'age': 22, 'grade': 'A', 'language': 'python'}\n"
     ]
    }
   ],
   "source": [
    "print(student)"
   ]
  },
  {
   "cell_type": "code",
   "execution_count": null,
   "id": "c9bd0e74-4d28-4741-b209-d54f1ad69ec7",
   "metadata": {},
   "outputs": [],
   "source": []
  }
 ],
 "metadata": {
  "kernelspec": {
   "display_name": "Python 3 (ipykernel)",
   "language": "python",
   "name": "python3"
  },
  "language_info": {
   "codemirror_mode": {
    "name": "ipython",
    "version": 3
   },
   "file_extension": ".py",
   "mimetype": "text/x-python",
   "name": "python",
   "nbconvert_exporter": "python",
   "pygments_lexer": "ipython3",
   "version": "3.12.7"
  }
 },
 "nbformat": 4,
 "nbformat_minor": 5
}
