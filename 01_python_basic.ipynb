{
 "cells": [
  {
   "cell_type": "code",
   "execution_count": 1,
   "id": "53157732-f59d-4313-a7ec-27b0ae05e6df",
   "metadata": {},
   "outputs": [],
   "source": [
    "a = 5"
   ]
  },
  {
   "cell_type": "code",
   "execution_count": 2,
   "id": "8eb3b41f-7c30-48e0-891b-bad7df3f6e76",
   "metadata": {},
   "outputs": [],
   "source": [
    "b = 32"
   ]
  },
  {
   "cell_type": "code",
   "execution_count": 3,
   "id": "1a1616a0-f261-4a8e-9277-5241490bb5ee",
   "metadata": {},
   "outputs": [
    {
     "data": {
      "text/plain": [
       "37"
      ]
     },
     "execution_count": 3,
     "metadata": {},
     "output_type": "execute_result"
    }
   ],
   "source": [
    "a+b"
   ]
  },
  {
   "cell_type": "code",
   "execution_count": 4,
   "id": "2cfdd656-b4b0-44a5-bc7a-8723680e32db",
   "metadata": {},
   "outputs": [],
   "source": [
    "name = \"Anmol\""
   ]
  },
  {
   "cell_type": "code",
   "execution_count": 6,
   "id": "0f798771-fb6e-49bc-9b1f-af75dc8f6790",
   "metadata": {},
   "outputs": [
    {
     "name": "stdout",
     "output_type": "stream",
     "text": [
      "Hello World\n"
     ]
    }
   ],
   "source": [
    "print(\"Hello World\")"
   ]
  },
  {
   "cell_type": "code",
   "execution_count": 7,
   "id": "9b4fe91f-059c-43c4-871e-b4f68f3ad47d",
   "metadata": {},
   "outputs": [],
   "source": [
    "# This is the comment"
   ]
  },
  {
   "cell_type": "code",
   "execution_count": 9,
   "id": "19bab020-d780-4d81-b293-73504771bd95",
   "metadata": {},
   "outputs": [
    {
     "name": "stdout",
     "output_type": "stream",
     "text": [
      "<class 'str'>\n"
     ]
    }
   ],
   "source": [
    "print(type(name))"
   ]
  },
  {
   "cell_type": "code",
   "execution_count": 11,
   "id": "43bd58a4-4632-405f-bdc3-8b126cb6684a",
   "metadata": {},
   "outputs": [
    {
     "data": {
      "text/plain": [
       "str"
      ]
     },
     "execution_count": 11,
     "metadata": {},
     "output_type": "execute_result"
    }
   ],
   "source": [
    "type(name)\n"
   ]
  },
  {
   "cell_type": "code",
   "execution_count": 14,
   "id": "68110dd9-bc05-44a6-b1fe-2e58ebb028f3",
   "metadata": {},
   "outputs": [],
   "source": [
    "a=\"4566\"\n",
    "\n"
   ]
  },
  {
   "cell_type": "code",
   "execution_count": 15,
   "id": "a1c18777-b5fe-4cfe-86b0-1545878164a6",
   "metadata": {},
   "outputs": [],
   "source": [
    "b=\"7899\"\n"
   ]
  },
  {
   "cell_type": "code",
   "execution_count": 17,
   "id": "6681c63d-cc0f-44a8-b626-3e8e04fb73ff",
   "metadata": {},
   "outputs": [
    {
     "name": "stdout",
     "output_type": "stream",
     "text": [
      "45667899\n"
     ]
    }
   ],
   "source": [
    "print(a+b)  #concating\n"
   ]
  },
  {
   "cell_type": "code",
   "execution_count": 18,
   "id": "2a747702-f39c-41c5-98bc-f1d87a5189f3",
   "metadata": {},
   "outputs": [
    {
     "data": {
      "text/plain": [
       "12465"
      ]
     },
     "execution_count": 18,
     "metadata": {},
     "output_type": "execute_result"
    }
   ],
   "source": [
    "int(a)+int(b) #Typecasting"
   ]
  },
  {
   "cell_type": "code",
   "execution_count": null,
   "id": "2c47f01b-b1a0-4f32-89d7-cd5e0c2a7322",
   "metadata": {},
   "outputs": [],
   "source": []
  }
 ],
 "metadata": {
  "kernelspec": {
   "display_name": "Python 3 (ipykernel)",
   "language": "python",
   "name": "python3"
  },
  "language_info": {
   "codemirror_mode": {
    "name": "ipython",
    "version": 3
   },
   "file_extension": ".py",
   "mimetype": "text/x-python",
   "name": "python",
   "nbconvert_exporter": "python",
   "pygments_lexer": "ipython3",
   "version": "3.12.7"
  }
 },
 "nbformat": 4,
 "nbformat_minor": 5
}
