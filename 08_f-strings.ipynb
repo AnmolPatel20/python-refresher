{
 "cells": [
  {
   "cell_type": "code",
   "execution_count": 1,
   "id": "67ea8a8f-c31b-4f6b-9910-63a4ac11dfae",
   "metadata": {},
   "outputs": [],
   "source": [
    "s = \"Anmol\""
   ]
  },
  {
   "cell_type": "code",
   "execution_count": 2,
   "id": "8b5805a6-af0e-4961-8112-b4a3889ec5ed",
   "metadata": {},
   "outputs": [
    {
     "data": {
      "text/plain": [
       "'A'"
      ]
     },
     "execution_count": 2,
     "metadata": {},
     "output_type": "execute_result"
    }
   ],
   "source": [
    "s[0]"
   ]
  },
  {
   "cell_type": "code",
   "execution_count": 4,
   "id": "3dd2d8a0-b290-4829-9e4b-fea99df0d6b1",
   "metadata": {},
   "outputs": [
    {
     "name": "stdout",
     "output_type": "stream",
     "text": [
      "my name is Anmol and i am 21 years old.\n"
     ]
    }
   ],
   "source": [
    "name=\"Anmol\"\n",
    "age=21\n",
    "print(\"my name is {} and i am {} years old.\".format(name,age))"
   ]
  },
  {
   "cell_type": "code",
   "execution_count": 5,
   "id": "2819b5d6-6848-4dc5-b87c-9a480fdb2003",
   "metadata": {},
   "outputs": [
    {
     "name": "stdout",
     "output_type": "stream",
     "text": [
      "my name is Anmol and i am 21 years old.\n"
     ]
    }
   ],
   "source": [
    "print(f\"my name is {name} and i am {age} years old.\")"
   ]
  },
  {
   "cell_type": "code",
   "execution_count": 6,
   "id": "132ee464-23fe-4223-b91f-afff00777cf5",
   "metadata": {},
   "outputs": [
    {
     "name": "stdout",
     "output_type": "stream",
     "text": [
      "Python    \n",
      "    Python\n",
      "  Python  \n"
     ]
    }
   ],
   "source": [
    "print(f\"{'Python':<10}\")  # Left-align\n",
    "print(f\"{'Python':>10}\")  # Right-align\n",
    "print(f\"{'Python':^10}\")  #center-align"
   ]
  },
  {
   "cell_type": "code",
   "execution_count": null,
   "id": "a001fa6a-365f-45e3-96b5-282c7ccd301e",
   "metadata": {},
   "outputs": [],
   "source": []
  }
 ],
 "metadata": {
  "kernelspec": {
   "display_name": "Python 3 (ipykernel)",
   "language": "python",
   "name": "python3"
  },
  "language_info": {
   "codemirror_mode": {
    "name": "ipython",
    "version": 3
   },
   "file_extension": ".py",
   "mimetype": "text/x-python",
   "name": "python",
   "nbconvert_exporter": "python",
   "pygments_lexer": "ipython3",
   "version": "3.12.7"
  }
 },
 "nbformat": 4,
 "nbformat_minor": 5
}
