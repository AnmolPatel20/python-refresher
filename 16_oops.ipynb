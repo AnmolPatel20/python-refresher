{
 "cells": [
  {
   "cell_type": "code",
   "execution_count": 3,
   "id": "642ef4f8-0038-4894-82b3-2bc583f39f65",
   "metadata": {},
   "outputs": [
    {
     "name": "stdout",
     "output_type": "stream",
     "text": [
      "The company of anmol is HP with slaary $50000\n"
     ]
    }
   ],
   "source": [
    "class Employee:\n",
    "    company=\"HP\"\n",
    "    def __init__(self,name,salary):\n",
    "        self.name=name\n",
    "        self.salary=salary\n",
    "        \n",
    "    def printDetails(self):\n",
    "        print(f\"The company of {self.name} is {self.company} with slaary ${self.salary}\")\n",
    "\n",
    "e=Employee(\"anmol\",50000)\n",
    "e.printDetails()"
   ]
  },
  {
   "cell_type": "code",
   "execution_count": null,
   "id": "9f9a9da0-d931-4b96-a705-650ba92f6b9c",
   "metadata": {},
   "outputs": [],
   "source": []
  }
 ],
 "metadata": {
  "kernelspec": {
   "display_name": "Python 3 (ipykernel)",
   "language": "python",
   "name": "python3"
  },
  "language_info": {
   "codemirror_mode": {
    "name": "ipython",
    "version": 3
   },
   "file_extension": ".py",
   "mimetype": "text/x-python",
   "name": "python",
   "nbconvert_exporter": "python",
   "pygments_lexer": "ipython3",
   "version": "3.12.7"
  }
 },
 "nbformat": 4,
 "nbformat_minor": 5
}
